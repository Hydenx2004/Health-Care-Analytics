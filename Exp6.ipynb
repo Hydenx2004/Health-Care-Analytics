{
  "nbformat": 4,
  "nbformat_minor": 0,
  "metadata": {
    "colab": {
      "provenance": []
    },
    "kernelspec": {
      "name": "python3",
      "display_name": "Python 3"
    },
    "language_info": {
      "name": "python"
    }
  },
  "cells": [
    {
      "cell_type": "code",
      "execution_count": 1,
      "metadata": {
        "id": "jWkqam1L_8En"
      },
      "outputs": [],
      "source": [
        "import re\n",
        "from sklearn.feature_extraction.text import CountVectorizer\n",
        "from sklearn.model_selection import train_test_split\n",
        "from sklearn.naive_bayes import MultinomialNB\n",
        "from sklearn.svm import SVC\n",
        "from sklearn.ensemble import RandomForestClassifier\n",
        "from sklearn.metrics import accuracy_score"
      ]
    },
    {
      "cell_type": "code",
      "source": [
        "# Sample Dataset (Clinical Text)\n",
        "clinical_text = [\n",
        "    \"Diagnosis: Diabetes\",\n",
        "    \"Patient has Hypertension\",\n",
        "    \"Diagnosis: Asthma\",\n",
        "    \"The patient is diagnosed with Diabetes\",\n",
        "    \"Hypertension is confirmed\"\n",
        "]\n",
        "labels = [\"Diabetes\", \"Hypertension\", \"Asthma\", \"Diabetes\", \"Hypertension\"]\n",
        "\n",
        "# Rule-Based Extraction\n",
        "def rule_based_extraction(text):\n",
        "    match = re.search(r\"Diagnosis:\\s*([\\w\\s]+)\", text)\n",
        "    return match.group(1).strip() if match else None\n",
        "\n",
        "rule_based_results = [rule_based_extraction(text) for text in clinical_text]\n",
        "print(\"Rule-Based Extraction Results:\", rule_based_results)\n",
        "\n",
        "# Pattern-Based Extraction\n",
        "def pattern_based_extraction(text):\n",
        "    patterns = [r\"Diagnosis:\\s*([\\w\\s]+)\", r\"diagnosed with\\s*([\\w\\s]+)\", r\"has\\s*([\\w\\s]+)\"]\n",
        "    for pattern in patterns:\n",
        "        match = re.search(pattern, text, re.IGNORECASE)\n",
        "        if match:\n",
        "            return match.group(1).strip()\n",
        "    return None\n",
        "\n",
        "pattern_based_results = [pattern_based_extraction(text) for text in clinical_text]\n",
        "print(\"Pattern-Based Extraction Results:\", pattern_based_results)\n",
        "\n",
        "# Machine Learning-Based Extraction\n",
        "# Step 1: Convert text to numerical features using CountVectorizer\n",
        "vectorizer = CountVectorizer()\n",
        "X = vectorizer.fit_transform(clinical_text)\n",
        "\n",
        "# Step 2: Split data into training and testing sets\n",
        "X_train, X_test, y_train, y_test = train_test_split(X, labels, test_size=0.2, random_state=42)\n",
        "\n",
        "# Step 3: Train and evaluate models\n",
        "models = {\n",
        "    \"Naive Bayes\": MultinomialNB(),\n",
        "    \"SVM\": SVC(kernel=\"linear\"),\n",
        "    \"Random Forest\": RandomForestClassifier()\n",
        "}"
      ],
      "metadata": {
        "colab": {
          "base_uri": "https://localhost:8080/"
        },
        "id": "uvnJKritK9-8",
        "outputId": "bca1e214-2b27-40f0-ab4a-bd0a769f7363"
      },
      "execution_count": 2,
      "outputs": [
        {
          "output_type": "stream",
          "name": "stdout",
          "text": [
            "Rule-Based Extraction Results: ['Diabetes', None, 'Asthma', None, None]\n",
            "Pattern-Based Extraction Results: ['Diabetes', 'Hypertension', 'Asthma', 'Diabetes', None]\n"
          ]
        }
      ]
    },
    {
      "cell_type": "code",
      "source": [
        "for model_name, model in models.items():\n",
        "    # Train the model\n",
        "    model.fit(X_train, y_train)\n",
        "\n",
        "    # Predict on test data\n",
        "    y_pred = model.predict(X_test)\n",
        "\n",
        "    # Calculate accuracy\n",
        "    accuracy = accuracy_score(y_test, y_pred)\n",
        "    print(f\"{model_name} Accuracy: {accuracy:.2f}\")"
      ],
      "metadata": {
        "colab": {
          "base_uri": "https://localhost:8080/"
        },
        "id": "d492RN3hLE06",
        "outputId": "64a50dc7-a756-4118-adde-322d1d2943f4"
      },
      "execution_count": 3,
      "outputs": [
        {
          "output_type": "stream",
          "name": "stdout",
          "text": [
            "Naive Bayes Accuracy: 1.00\n",
            "SVM Accuracy: 1.00\n",
            "Random Forest Accuracy: 1.00\n"
          ]
        }
      ]
    },
    {
      "cell_type": "code",
      "source": [],
      "metadata": {
        "id": "i6fZ7ORbLFfi"
      },
      "execution_count": null,
      "outputs": []
    }
  ]
}
