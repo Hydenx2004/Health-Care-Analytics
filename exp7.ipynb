{
  "nbformat": 4,
  "nbformat_minor": 0,
  "metadata": {
    "colab": {
      "provenance": []
    },
    "kernelspec": {
      "name": "python3",
      "display_name": "Python 3"
    },
    "language_info": {
      "name": "python"
    }
  },
  "cells": [
    {
      "cell_type": "code",
      "execution_count": 1,
      "metadata": {
        "colab": {
          "base_uri": "https://localhost:8080/"
        },
        "id": "JgrAc8pLBiO_",
        "outputId": "561c09c3-6b13-4bd4-a8d7-2a14c0638e5b"
      },
      "outputs": [
        {
          "output_type": "stream",
          "name": "stdout",
          "text": [
            "Logistic Regression Accuracy: 0.7359\n",
            "Naive Bayes Accuracy: 0.7446\n",
            "\n",
            "New Patient Diabetes Probability:\n",
            "Logistic Regression: 0.7443\n",
            "Naive Bayes: 0.7257\n"
          ]
        },
        {
          "output_type": "stream",
          "name": "stderr",
          "text": [
            "/usr/local/lib/python3.11/dist-packages/sklearn/utils/validation.py:2739: UserWarning: X does not have valid feature names, but StandardScaler was fitted with feature names\n",
            "  warnings.warn(\n"
          ]
        }
      ],
      "source": [
        "import pandas as pd\n",
        "from sklearn.model_selection import train_test_split\n",
        "from sklearn.linear_model import LogisticRegression\n",
        "from sklearn.naive_bayes import GaussianNB\n",
        "from sklearn.metrics import accuracy_score\n",
        "from sklearn.preprocessing import StandardScaler\n",
        "\n",
        "# Load the Pima Indians Diabetes Dataset\n",
        "url = \"https://raw.githubusercontent.com/plotly/datasets/master/diabetes.csv\"\n",
        "data = pd.read_csv(url)\n",
        "\n",
        "# Prepare data for modeling\n",
        "X = data.drop('Outcome', axis=1)\n",
        "y = data['Outcome']\n",
        "\n",
        "# Split data\n",
        "X_train, X_test, y_train, y_test = train_test_split(X, y, test_size=0.3, random_state=42)\n",
        "\n",
        "# Scale features\n",
        "scaler = StandardScaler()\n",
        "X_train_scaled = scaler.fit_transform(X_train)\n",
        "X_test_scaled = scaler.transform(X_test)\n",
        "\n",
        "# Logistic Regression Model\n",
        "log_reg = LogisticRegression(random_state=42)\n",
        "log_reg.fit(X_train_scaled, y_train)\n",
        "y_pred_log = log_reg.predict(X_test_scaled)\n",
        "log_accuracy = accuracy_score(y_test, y_pred_log)\n",
        "print(f\"Logistic Regression Accuracy: {log_accuracy:.4f}\")\n",
        "\n",
        "# Naive Bayes Model\n",
        "nb_model = GaussianNB()\n",
        "nb_model.fit(X_train_scaled, y_train)\n",
        "y_pred_nb = nb_model.predict(X_test_scaled)\n",
        "nb_accuracy = accuracy_score(y_test, y_pred_nb)\n",
        "print(f\"Naive Bayes Accuracy: {nb_accuracy:.4f}\")\n",
        "\n",
        "# Example prediction for a new patient\n",
        "new_patient = [[6, 148, 72, 35, 0, 33.6, 0.627, 50]]  # Example values\n",
        "new_patient_scaled = scaler.transform(new_patient)\n",
        "\n",
        "# Get predictions\n",
        "log_prob = log_reg.predict_proba(new_patient_scaled)[0][1]\n",
        "nb_prob = nb_model.predict_proba(new_patient_scaled)[0][1]\n",
        "\n",
        "print(f\"\\nNew Patient Diabetes Probability:\")\n",
        "print(f\"Logistic Regression: {log_prob:.4f}\")\n",
        "print(f\"Naive Bayes: {nb_prob:.4f}\")"
      ]
    },
    {
      "cell_type": "code",
      "source": [],
      "metadata": {
        "id": "hdb3H4XDBmwr"
      },
      "execution_count": null,
      "outputs": []
    }
  ]
}